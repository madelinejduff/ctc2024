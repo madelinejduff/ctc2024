{
 "cells": [
  {
   "cell_type": "code",
   "execution_count": 1,
   "metadata": {
    "scrolled": false
   },
   "outputs": [
    {
     "name": "stdout",
     "output_type": "stream",
     "text": [
      "Generated orders:\n",
      "                           datetime          option_symbol action  order_size\n",
      "0    2024-01-09T17:40:35.558369462Z  SPX   240119C04760000      S           1\n",
      "1    2024-01-09T17:38:30.279582720Z  SPX   240119P04760000      S           1\n",
      "2    2024-01-09T17:40:35.558369462Z  SPX   240119C04760000      S           1\n",
      "3    2024-01-09T17:38:30.279601837Z  SPX   240119P04760000      S           1\n",
      "4    2024-01-09T17:40:35.558369462Z  SPX   240119C04760000      S           1\n",
      "..                              ...                    ...    ...         ...\n",
      "253  2024-03-13T13:39:23.373231666Z  SPX   240315P05175000      S           1\n",
      "254  2024-03-13T13:40:47.247324881Z  SPX   240315C05175000      S           1\n",
      "255  2024-03-13T13:49:05.128186902Z  SPX   240315P05175000      S           1\n",
      "256  2024-03-13T14:10:00.089528455Z  SPX   240315C05170000      S           1\n",
      "257  2024-03-13T14:12:22.118150112Z  SPX   240315P05170000      S           1\n",
      "\n",
      "[258 rows x 4 columns]\n"
     ]
    }
   ],
   "source": [
    "from datetime import datetime\n",
    "from backtester import Backtester\n",
    "from strategy import Strategy\n",
    "\n",
    "start = datetime(2024, 1, 1)\n",
    "end = datetime(2024, 3, 30)\n",
    "s = Strategy()\n",
    "b = Backtester(start, end, s)"
   ]
  },
  {
   "cell_type": "code",
   "execution_count": null,
   "metadata": {
    "scrolled": false
   },
   "outputs": [
    {
     "name": "stdout",
     "output_type": "stream",
     "text": [
      "2024-01-02 00:00:00 capital: 100000000 portfolio value: 0 total pnl: 100000000 open orders: 0\n",
      "2024-01-03 00:00:00 capital: 100000000 portfolio value: 0 total pnl: 100000000 open orders: 0\n",
      "2024-01-04 00:00:00 capital: 100000000 portfolio value: 0 total pnl: 100000000 open orders: 0\n",
      "2024-01-05 00:00:00 capital: 100000000 portfolio value: 0 total pnl: 100000000 open orders: 0\n",
      "2024-01-06 00:00:00 capital: 100000000 portfolio value: 0 total pnl: 100000000 open orders: 0\n",
      "2024-01-07 00:00:00 capital: 100000000 portfolio value: 0 total pnl: 100000000 open orders: 0\n",
      "2024-01-08 00:00:00 capital: 100000000 portfolio value: 0 total pnl: 100000000 open orders: 0\n",
      "2024-01-09 00:00:00 capital: 100000000 portfolio value: 0 total pnl: 100000000 open orders: 0\n",
      "2024-01-10 00:00:00 capital: 100059340.0 portfolio value: 0 total pnl: 100059340.0 open orders: 4\n",
      "2024-01-11 00:00:00 capital: 100124080.0 portfolio value: 0 total pnl: 100124080.0 open orders: 6\n",
      "2024-01-12 00:00:00 capital: 100165150.0 portfolio value: 0 total pnl: 100165150.0 open orders: 9\n",
      "2024-01-13 00:00:00 capital: 100163930.0 portfolio value: 0 total pnl: 100163930.0 open orders: 9\n",
      "2024-01-14 00:00:00 capital: 100163930.0 portfolio value: 0 total pnl: 100163930.0 open orders: 9\n",
      "2024-01-15 00:00:00 capital: 100163930.0 portfolio value: 0 total pnl: 100163930.0 open orders: 9\n",
      "2024-01-16 00:00:00 capital: 100163930.0 portfolio value: 0 total pnl: 100163930.0 open orders: 9\n",
      "2024-01-17 00:00:00 capital: 100202610.0 portfolio value: 0 total pnl: 100202610.0 open orders: 9\n",
      "2024-01-18 00:00:00 capital: 100189425.0 portfolio value: 32360.0 total pnl: 100221785.0 open orders: 13\n",
      "2024-01-19 00:00:00 capital: 100270895.0 portfolio value: 20230.0 total pnl: 100291125.0 open orders: 13\n",
      "2024-01-20 00:00:00 capital: 100263407.0 portfolio value: 2169.999999999998 total pnl: 100265577.0 open orders: 0\n",
      "2024-01-21 00:00:00 capital: 100263407.0 portfolio value: 2169.999999999998 total pnl: 100265577.0 open orders: 0\n",
      "2024-01-22 00:00:00 capital: 100263407.0 portfolio value: 2169.999999999998 total pnl: 100265577.0 open orders: 0\n",
      "2024-01-23 00:00:00 capital: 100263407.0 portfolio value: 2169.999999999998 total pnl: 100265577.0 open orders: 0\n",
      "2024-01-24 00:00:00 capital: 100263407.0 portfolio value: 2169.999999999998 total pnl: 100265577.0 open orders: 0\n",
      "2024-01-25 00:00:00 capital: 100263407.0 portfolio value: 2169.999999999998 total pnl: 100265577.0 open orders: 0\n",
      "2024-01-26 00:00:00 capital: 100263407.0 portfolio value: 2169.999999999998 total pnl: 100265577.0 open orders: 0\n",
      "2024-01-27 00:00:00 capital: 100263407.0 portfolio value: 2169.999999999998 total pnl: 100265577.0 open orders: 0\n",
      "2024-01-28 00:00:00 capital: 100263407.0 portfolio value: 2169.999999999998 total pnl: 100265577.0 open orders: 0\n",
      "2024-01-29 00:00:00 capital: 100263407.0 portfolio value: 2169.999999999998 total pnl: 100265577.0 open orders: 0\n",
      "2024-01-30 00:00:00 capital: 100263407.0 portfolio value: 2169.999999999998 total pnl: 100265577.0 open orders: 0\n",
      "2024-01-31 00:00:00 capital: 100263407.0 portfolio value: 2169.999999999998 total pnl: 100265577.0 open orders: 0\n",
      "2024-02-01 00:00:00 capital: 100263407.0 portfolio value: 2169.999999999998 total pnl: 100265577.0 open orders: 0\n",
      "2024-02-02 00:00:00 capital: 100263407.0 portfolio value: 2169.999999999998 total pnl: 100265577.0 open orders: 0\n",
      "2024-02-03 00:00:00 capital: 100263407.0 portfolio value: 2169.999999999998 total pnl: 100265577.0 open orders: 0\n",
      "2024-02-04 00:00:00 capital: 100263407.0 portfolio value: 2169.999999999998 total pnl: 100265577.0 open orders: 0\n",
      "2024-02-05 00:00:00 capital: 100263407.0 portfolio value: 2169.999999999998 total pnl: 100265577.0 open orders: 0\n",
      "2024-02-06 00:00:00 capital: 100263407.0 portfolio value: 2169.999999999998 total pnl: 100265577.0 open orders: 0\n",
      "2024-02-07 00:00:00 capital: 100263407.0 portfolio value: 2169.999999999998 total pnl: 100265577.0 open orders: 0\n",
      "2024-02-08 00:00:00 capital: 100331787.0 portfolio value: 2169.999999999998 total pnl: 100333957.0 open orders: 5\n",
      "2024-02-09 00:00:00 capital: 100397487.0 portfolio value: 2169.999999999998 total pnl: 100399657.0 open orders: 5\n",
      "2024-02-10 00:00:00 capital: 100466197.0 portfolio value: 2169.999999999998 total pnl: 100468367.0 open orders: 9\n",
      "2024-02-11 00:00:00 capital: 100466197.0 portfolio value: 2169.999999999998 total pnl: 100468367.0 open orders: 9\n",
      "2024-02-12 00:00:00 capital: 100466197.0 portfolio value: 2169.999999999998 total pnl: 100468367.0 open orders: 9\n",
      "2024-02-13 00:00:00 capital: 100510387.0 portfolio value: 2169.999999999998 total pnl: 100512557.0 open orders: 11\n",
      "2024-02-14 00:00:00 capital: 100456587.0 portfolio value: 50590.0 total pnl: 100507177.0 open orders: 13\n",
      "2024-02-15 00:00:00 capital: 100514817.0 portfolio value: 49690.0 total pnl: 100564507.0 open orders: 13\n",
      "2024-02-16 00:00:00 capital: 100639547.0 portfolio value: 55940.0 total pnl: 100695487.0 open orders: 13\n",
      "2024-02-17 00:00:00 capital: 100603776.0 portfolio value: 30640.0 total pnl: 100634416.0 open orders: 0\n",
      "2024-02-18 00:00:00 capital: 100603776.0 portfolio value: 30640.0 total pnl: 100634416.0 open orders: 0\n",
      "2024-02-19 00:00:00 capital: 100603776.0 portfolio value: 30640.0 total pnl: 100634416.0 open orders: 0\n",
      "2024-02-20 00:00:00 capital: 100603776.0 portfolio value: 30640.0 total pnl: 100634416.0 open orders: 0\n",
      "2024-02-21 00:00:00 capital: 100603776.0 portfolio value: 30640.0 total pnl: 100634416.0 open orders: 0\n",
      "2024-02-22 00:00:00 capital: 100603776.0 portfolio value: 30640.0 total pnl: 100634416.0 open orders: 0\n",
      "2024-02-23 00:00:00 capital: 100603776.0 portfolio value: 30640.0 total pnl: 100634416.0 open orders: 0\n",
      "2024-02-24 00:00:00 capital: 100603776.0 portfolio value: 30640.0 total pnl: 100634416.0 open orders: 0\n",
      "2024-02-25 00:00:00 capital: 100603776.0 portfolio value: 30640.0 total pnl: 100634416.0 open orders: 0\n",
      "2024-02-26 00:00:00 capital: 100603776.0 portfolio value: 30640.0 total pnl: 100634416.0 open orders: 0\n",
      "2024-02-27 00:00:00 capital: 100603776.0 portfolio value: 30640.0 total pnl: 100634416.0 open orders: 0\n",
      "2024-02-28 00:00:00 capital: 100603776.0 portfolio value: 30640.0 total pnl: 100634416.0 open orders: 0\n",
      "2024-02-29 00:00:00 capital: 100603776.0 portfolio value: 30640.0 total pnl: 100634416.0 open orders: 0\n",
      "2024-03-01 00:00:00 capital: 100603776.0 portfolio value: 30640.0 total pnl: 100634416.0 open orders: 0\n",
      "2024-03-02 00:00:00 capital: 100603776.0 portfolio value: 30640.0 total pnl: 100634416.0 open orders: 0\n",
      "2024-03-03 00:00:00 capital: 100603776.0 portfolio value: 30640.0 total pnl: 100634416.0 open orders: 0\n",
      "2024-03-04 00:00:00 capital: 100603776.0 portfolio value: 30640.0 total pnl: 100634416.0 open orders: 0\n",
      "2024-03-05 00:00:00 capital: 100603776.0 portfolio value: 30640.0 total pnl: 100634416.0 open orders: 0\n",
      "2024-03-06 00:00:00 capital: 100519846.0 portfolio value: 118670.0 total pnl: 100638516.0 open orders: 4\n",
      "2024-03-07 00:00:00 capital: 100519846.0 portfolio value: 121770.0 total pnl: 100641616.0 open orders: 4\n",
      "2024-03-08 00:00:00 capital: 100608196.0 portfolio value: 131280.0 total pnl: 100739476.0 open orders: 8\n",
      "2024-03-09 00:00:00 capital: 100677096.0 portfolio value: 140270.0 total pnl: 100817366.0 open orders: 12\n",
      "2024-03-10 00:00:00 capital: 100677096.0 portfolio value: 140270.0 total pnl: 100817366.0 open orders: 12\n",
      "2024-03-11 00:00:00 capital: 100677096.0 portfolio value: 140270.0 total pnl: 100817366.0 open orders: 12\n"
     ]
    }
   ],
   "source": [
    "b.calculate_pnl()"
   ]
  },
  {
   "cell_type": "code",
   "execution_count": null,
   "metadata": {},
   "outputs": [],
   "source": [
    "b.plot_pnl()"
   ]
  },
  {
   "cell_type": "code",
   "execution_count": null,
   "metadata": {},
   "outputs": [],
   "source": [
    "b.compute_overall_score()"
   ]
  }
 ],
 "metadata": {
  "kernelspec": {
   "display_name": "Python 3 (ipykernel)",
   "language": "python",
   "name": "python3"
  },
  "language_info": {
   "codemirror_mode": {
    "name": "ipython",
    "version": 3
   },
   "file_extension": ".py",
   "mimetype": "text/x-python",
   "name": "python",
   "nbconvert_exporter": "python",
   "pygments_lexer": "ipython3",
   "version": "3.10.9"
  }
 },
 "nbformat": 4,
 "nbformat_minor": 2
}
