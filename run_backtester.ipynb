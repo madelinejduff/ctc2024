{
 "cells": [
  {
   "cell_type": "code",
   "execution_count": 1,
   "metadata": {
    "scrolled": false
   },
   "outputs": [
    {
     "name": "stdout",
     "output_type": "stream",
     "text": [
      "Generated orders:\n",
      "                            datetime          option_symbol action  order_size\n",
      "0     2024-01-04T14:30:02.233254569Z  SPX   240119C04700000      B          10\n",
      "1     2024-01-04T14:37:02.293646122Z  SPX   240119C04700000      B          10\n",
      "2     2024-01-04T14:37:20.062501159Z  SPX   240119C04700000      B          10\n",
      "3     2024-01-04T14:39:58.163934653Z  SPX   240216C04700000      B          10\n",
      "4     2024-01-04T14:44:31.825317303Z  SPX   240119C04700000      B          10\n",
      "...                              ...                    ...    ...         ...\n",
      "2768  2024-03-28T19:59:48.701855164Z  SPX   240419P05265000      S          10\n",
      "2769  2024-03-28T19:30:24.372262387Z  SPX   240419P05265000      S          10\n",
      "2770  2024-03-28T19:52:49.275933480Z  SPX   240517P05265000      S          10\n",
      "2771  2024-03-28T19:52:49.275938333Z  SPX   240517P05265000      S          10\n",
      "2772  2024-03-28T19:52:49.275943444Z  SPX   240517P05265000      S          10\n",
      "\n",
      "[2773 rows x 4 columns]\n"
     ]
    }
   ],
   "source": [
    "from datetime import datetime\n",
    "from backtester import Backtester\n",
    "from strategy import Strategy\n",
    "\n",
    "start = datetime(2024, 1, 1)\n",
    "end = datetime(2024, 3, 30)\n",
    "s = Strategy()\n",
    "b = Backtester(start, end, s)"
   ]
  },
  {
   "cell_type": "code",
   "execution_count": null,
   "metadata": {
    "scrolled": false
   },
   "outputs": [
    {
     "name": "stdout",
     "output_type": "stream",
     "text": [
      "2024-01-02 00:00:00 capital: 100000000 portfolio value: 0 total pnl: 100000000 open orders: 0\n",
      "2024-01-03 00:00:00 capital: 100000000 portfolio value: 0 total pnl: 100000000 open orders: 0\n",
      "2024-01-04 00:00:00 capital: 100000000 portfolio value: 0 total pnl: 100000000 open orders: 0\n",
      "2024-01-05 00:00:00 capital: 95380775.0 portfolio value: 4620600.0 total pnl: 100001375.0 open orders: 21\n",
      "2024-01-06 00:00:00 capital: 94800770.0 portfolio value: 4959400.0 total pnl: 99760170.0 open orders: 25\n",
      "2024-01-07 00:00:00 capital: 94800770.0 portfolio value: 4959400.0 total pnl: 99760170.0 open orders: 25\n",
      "2024-01-08 00:00:00 capital: 94800770.0 portfolio value: 4959400.0 total pnl: 99760170.0 open orders: 25\n",
      "2024-01-09 00:00:00 capital: 96185970.0 portfolio value: 4666000.0 total pnl: 100851970.0 open orders: 36\n",
      "2024-01-10 00:00:00 capital: 100122870.0 portfolio value: 4482400.0 total pnl: 104605270.0 open orders: 52\n",
      "2024-01-11 00:00:00 capital: 103405070.0 portfolio value: 4569300.0 total pnl: 107974370.0 open orders: 71\n",
      "2024-01-12 00:00:00 capital: 104862370.0 portfolio value: 4604100.0 total pnl: 109466470.0 open orders: 78\n",
      "2024-01-13 00:00:00 capital: 105016070.0 portfolio value: 4612600.0 total pnl: 109628670.0 open orders: 78\n",
      "2024-01-14 00:00:00 capital: 105016070.0 portfolio value: 4612600.0 total pnl: 109628670.0 open orders: 78\n",
      "2024-01-15 00:00:00 capital: 105016070.0 portfolio value: 4612600.0 total pnl: 109628670.0 open orders: 78\n",
      "2024-01-16 00:00:00 capital: 105016070.0 portfolio value: 4612600.0 total pnl: 109628670.0 open orders: 78\n",
      "2024-01-17 00:00:00 capital: 104684765.0 portfolio value: 6007550.0 total pnl: 110692315.0 open orders: 83\n",
      "2024-01-18 00:00:00 capital: 102523580.0 portfolio value: 8013850.0 total pnl: 110537430.0 open orders: 97\n",
      "2024-01-19 00:00:00 capital: 104417780.0 portfolio value: 7449550.0 total pnl: 111867330.0 open orders: 97\n",
      "2024-01-20 00:00:00 capital: 111136200.0 portfolio value: 5934450.0 total pnl: 117070650.0 open orders: 90\n",
      "2024-01-21 00:00:00 capital: 111136200.0 portfolio value: 5934450.0 total pnl: 117070650.0 open orders: 90\n",
      "2024-01-22 00:00:00 capital: 111136200.0 portfolio value: 5934450.0 total pnl: 117070650.0 open orders: 90\n"
     ]
    }
   ],
   "source": [
    "b.calculate_pnl()"
   ]
  },
  {
   "cell_type": "code",
   "execution_count": null,
   "metadata": {},
   "outputs": [],
   "source": [
    "b.plot_pnl()"
   ]
  },
  {
   "cell_type": "code",
   "execution_count": null,
   "metadata": {},
   "outputs": [],
   "source": [
    "b.compute_overall_score()"
   ]
  }
 ],
 "metadata": {
  "kernelspec": {
   "display_name": "Python 3 (ipykernel)",
   "language": "python",
   "name": "python3"
  },
  "language_info": {
   "codemirror_mode": {
    "name": "ipython",
    "version": 3
   },
   "file_extension": ".py",
   "mimetype": "text/x-python",
   "name": "python",
   "nbconvert_exporter": "python",
   "pygments_lexer": "ipython3",
   "version": "3.10.9"
  }
 },
 "nbformat": 4,
 "nbformat_minor": 2
}
